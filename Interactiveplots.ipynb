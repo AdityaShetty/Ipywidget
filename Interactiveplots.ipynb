{
  "nbformat": 4,
  "nbformat_minor": 0,
  "metadata": {
    "colab": {
      "provenance": [],
      "collapsed_sections": []
    },
    "kernelspec": {
      "name": "python3",
      "display_name": "Python 3"
    },
    "language_info": {
      "name": "python"
    },
    "accelerator": "GPU",
    "gpuClass": "standard",
    "widgets": {
      "application/vnd.jupyter.widget-state+json": {
        "6c72d3a6663c4d5e9b75b1423e9c2b37": {
          "model_module": "@jupyter-widgets/controls",
          "model_name": "VBoxModel",
          "model_module_version": "1.5.0",
          "state": {
            "_dom_classes": [
              "widget-interact"
            ],
            "_model_module": "@jupyter-widgets/controls",
            "_model_module_version": "1.5.0",
            "_model_name": "VBoxModel",
            "_view_count": null,
            "_view_module": "@jupyter-widgets/controls",
            "_view_module_version": "1.5.0",
            "_view_name": "VBoxView",
            "box_style": "",
            "children": [
              "IPY_MODEL_4daedb7c4d994821b8c607f7f5de2d07",
              "IPY_MODEL_ce3609a7f9604e6f84973af6600a47f5"
            ],
            "layout": "IPY_MODEL_31f5df8cc2144f5e99444e047bde418e"
          }
        },
        "4daedb7c4d994821b8c607f7f5de2d07": {
          "model_module": "@jupyter-widgets/controls",
          "model_name": "TextModel",
          "model_module_version": "1.5.0",
          "state": {
            "_dom_classes": [],
            "_model_module": "@jupyter-widgets/controls",
            "_model_module_version": "1.5.0",
            "_model_name": "TextModel",
            "_view_count": null,
            "_view_module": "@jupyter-widgets/controls",
            "_view_module_version": "1.5.0",
            "_view_name": "TextView",
            "continuous_update": true,
            "description": "n",
            "description_tooltip": null,
            "disabled": false,
            "layout": "IPY_MODEL_199338f5fdab4a21ae265f377d918456",
            "placeholder": "​",
            "style": "IPY_MODEL_336fbbe9e5e540d4bce6bc42b0295a05",
            "value": "D"
          }
        },
        "ce3609a7f9604e6f84973af6600a47f5": {
          "model_module": "@jupyter-widgets/output",
          "model_name": "OutputModel",
          "model_module_version": "1.0.0",
          "state": {
            "_dom_classes": [],
            "_model_module": "@jupyter-widgets/output",
            "_model_module_version": "1.0.0",
            "_model_name": "OutputModel",
            "_view_count": null,
            "_view_module": "@jupyter-widgets/output",
            "_view_module_version": "1.0.0",
            "_view_name": "OutputView",
            "layout": "IPY_MODEL_bd9435b29a87426fa2f77f429a9d7885",
            "msg_id": "",
            "outputs": [
              {
                "output_type": "display_data",
                "data": {
                  "text/plain": "<Figure size 432x288 with 1 Axes>",
                  "image/png": "iVBORw0KGgoAAAANSUhEUgAAAXkAAAEHCAYAAABLKzaMAAAABHNCSVQICAgIfAhkiAAAAAlwSFlzAAALEgAACxIB0t1+/AAAADh0RVh0U29mdHdhcmUAbWF0cGxvdGxpYiB2ZXJzaW9uMy4yLjIsIGh0dHA6Ly9tYXRwbG90bGliLm9yZy+WH4yJAAAYzklEQVR4nO3df5BdZZ3n8fenSZufQGLSRWFCJrhxsJAJkbkDzrTLOICO7LhhV9CBLXSHrd1s7fhrxDHR0V3X2Z0fgOPqVlmzFQHFGcUFIsIqq1ATd11dCXSg0/ySWgYQEhhpQohpIU0n/d0/7mly0+lOn+6+z719n/N5VXXRfe7p83xPkf7cc5/znOdRRGBmZnnqancBZmaWjkPezCxjDnkzs4w55M3MMuaQNzPL2Lx2F9BoxYoVsWbNmnaXYWbWUXbs2PF8RPRM9FrykJf0UeBfAwE8AFwREQcm2nfNmjX09fWlLsnMLCuSfjbZa0m7ayStBD4M1CLiDOA44NKUbZqZ2WGt6JOfByyUNA9YBDzTgjbNzIzEIR8Ru4HPAU8BzwL7IuLOlG2amdlhqbtrlgEXAacCrwMWS7p83D4bJfVJ6hscHExZjplZ5aTurrkAeCIiBiNiBPgW8FuNO0TEloioRUStp2fCm8NmZjZDqUP+KeAtkhZJEnA+8EjiNs2ysWdomJ1Pv8ieoeF2l2IdKukQyojYLukW4D7gIHA/sCVlm2a5uK1/N5u3DtDd1cXI6ChXX7yODetXtrss6zDJR9dExGci4o0RcUZEvC8ifEliNoU9Q8Ns3jrAgZFR9g8f5MDIKJu2DviK3qbN0xqYzUG79r5Md9eRf57dXV3s2vtymyqyTuWQN5uDVi1byMjo6BHbRkZHWbVsYZsqap0q3odIec5zau4aM6tbvmQ+V1+8jk3j+uSXL5nf7tKSquJ9iNTnrLm0/F+tVgvPXWN22J6hYXbtfZlVyxZmH/B7hobpvWobB0YOf4JZ0N3Fjzefl+25N+ucJe2IiNpEr7m7xmwOW75kPmeesjTbkGtUxfsQrThnh7yZzQlVvA/RinN2yJvZnDB2H2JBdxfHz5/Hgu6u7O9DtOKc3SdvZnNKle5DjJntOR+rT96ja8xsTlm+ZH5lwn1MynN2d42ZWcYc8mZzWBUfDLLmcneN2RxVxQeDrPl8JW82B3mCMmsWh3wH80f5fFXxwSBLw901Hcof5fNWxQeDLA1fyXcgf5TPXxUfDLI0fCXfgcY+yh/g8JXe2Ed5h0A+NqxfSe/aFZV7MMiaK2nISzoN+O8Nm14P/IeI+ELKdnPnj/LVUcUHg6y5knbXRMSjEbE+ItYDvw68BNyass0q8Ed5Myurld015wN/HxE/a2Gb2fJHeTMro5Uhfylw4/iNkjYCGwFWr17dwnI6nz/Km9lUWjK6RtJrgA3AzeNfi4gtEVGLiFpPT08ryjEzq4xWDaG8ELgvIn7eovbMzIzWhfxlTNBVY2ZmaSUPeUmLgbcD30rdlpmZHSn5jdeI+CWwPHU7ZmZ2NE9rYGaWMYe8mVnGHPJmZhlzyJuZZcwhb2aWMYe8mVnGHPJmZhlzyFvH8Jq2ZtOXzcpQe4aGPe1uxrymrdnMZBHyDoC8Na5pO7bk4aatA/SuXeE3dLMpdHx3jRe1zt/YmraNxta0NbNj6/iQdwDkz2vams1cx4e8AyB/XtPWbOY6vk9+LAA2jeuTdwDkxWvams1Mx4c8OACqwmvamk1fFiEPDgAzs4l0fJ+8mZlNrhXL/y2VdIukn0p6RNJvpm7TzKyTpHyauxXdNV8EvhcRl0h6DbCoBW2amXWE1A9zJr2Sl3QicC5wHUBEvBIRL6Zs08ysU7TiYc7U3TWnAoPAVyTdL+laSYsbd5C0UVKfpL7BwcHE5ZiZzR2teJgzdcjPA84C/joi3gz8EvhE4w4RsSUiahFR6+npSVyOmdnc0YqHOVOH/C5gV0RsL36+hXrom5lVXiue5k564zUi/kHS05JOi4hHgfOBh1O2aWbWSVI/zNmK0TUfAr5ejKx5HLiiBW2amXWMlA9zJg/5iOgHaqnbMTOzo/mJVzOzjDnkzcwy5pA3M8uYQ97MLGMOeTOzjDnkzcwy5pA3M8uYQ97MLGMOeTOzjDnkzcwy5pA3M8uYQ97MLGMOeTOzjDnkzcwy5pA3M8uYQ97MLGMOeTOzjCVfGUrSk8B+4BBwMCK8SpSZWYu0Yo1XgN+JiOdb1JaZmRXcXWNmlrFWhHwAd0raIWnj+BclbZTUJ6lvcHCwBeWYmVVHK0L+rRFxFnAh8AFJ5za+GBFbIqIWEbWenp4WlGNmVh3JQz4idhf/fQ64FTg7dZtVsWdomJ1Pv8ieoeF2l2Jmc1SpG6+SdgDXA9+IiL1lDy5pMdAVEfuL798B/OmMKrUj3Na/m81bB+ju6mJkdJSrL17HhvUr212Wmc0xZa/kfx94HXCvpG9K+l1JKvF7JwE/krQTuAf4bkR8b4a1WmHP0DCbtw5wYGSU/cMHOTAyyqatA76iN7OjlLqSj4jHgE9J+vfAu6hf1R+S9BXgixHxwiS/9zhwZrOKtbpde1+mu6uLA4y+uq27q4tde19m+ZL5bazMzOaa0n3yktYBfwVcA2wF3gP8AtiWpjSbzKplCxkZHT1i28joKKuWLWxTRWY2V5UK+aJP/r8A9wLrIuLDEbE9Iv4KeDxlgXa05Uvmc/XF61jQ3cXx8+exoLuLqy9e56t4MztK2Sde31N0vRwlIt7dxHqspA3rV9K7dgW79r7MqmULHfBmNqFjhrykKxu+P+r1iPh8gpqspOVL5jvczeyYprqSP77472nAbwC3Fz//U+qjZczMbA47ZshHxGcBJP0QOCsi9hc//0fgu8mrMzOzWSk7uuYk4JWGn18ptlkb+YlXM5tK2RuvXwPukXRr8fM/A25IU5KV4SdezayMUlfyEfFnwBXA3uLrioj485SF2eT8xKuZlVV27prVwPPUJxh7dVtEPJWqMJucn3g1s7LKdtd8l/q88AALgVOBR4E3pSjKjs1PvJpZWWW7a34tItYVX2+gPl3wT9KWZpPxE6+WMw8oaK4ZrfEaEfdJOqfZxVh5fuLVcuQBBc1Xtk/+yoYfu4CzgGeSVGSl+YlXy0njgIKx+02btg7Qu3aF/53PQtlx8sc3fM2n3kd/UaqizKx6xgYUNBobUGAzV7a75uGIuLlxg6T3ADdPsr+Z2bR4QEEaZa/kP1ly24QkHSfpfknfKfs7ZlYtHlCQxlSzUF4I/BNgpaT/2vDSCcDBabTzEeCR4vfMzCbkAQXNN9WV/DNAH3AA2NHwdTvwu2UakLQK+D3g2pmXaVZNVRxOuHzJfM48ZakDvkmmmoVyJ7BT0jciYgRA0jLglIjYW7KNLwCbODxtsdmM7BkartQVnocTWjOUvfF6l6QNxf47gOck/d+I+OixfknSu4DnImKHpLdNss9GYCPA6tWrSxdu1VK1wPNwQmuWsjdeT4yIXwDvBr4WEecA55f4vV5gg6QngW8C50n628YdImJLRNQiotbT0zON0q0qqjghm4cTWrOUDfl5kk4G3guUHiETEZ+MiFURsQa4FNgWEZdPv0ybSFX6a6sYeB5OaM1SNuT/FPg+8FhE3Cvp9cD/S1eWTeW2/t30XrWNy6/dTu9V27i9f3e7S0qmioHn4YTWLIqIqfea6iDSJyPiL2Z7nFqtFn19fbOuJ3d7hobpvWobB0YOB9+C7i5+vPm8bEPg9v7dbKpQn/yYqt1stpmRtCMiahO9NqMJyibwHmDWIW/lVHE++aqOn/b8RDZbzQp5Nek4VkIVuy/AgWc2E2X75Kcy+z4fK235kvm8t7bqiG3vra1yAJrZUZoV8r6Sb6E9Q8Pc1LfriG039e3KfpSNmU1fs0Les1G2UBWHFJrZzJQKeUm/KunvJD1Y/LxO0qfHXo+IP09VoB2tqn3yZjZ9Za/kv0x9auERgIgYoP5wk7WBx1CbWVllR9csioh7pCO63qcz1bA1WVWHFJrZ9JQN+ecl/SOKUTSSLgGeTVaVleIhhWY2lbIh/wFgC/BGSbuBJwDPQWNmNseVCvmIeBy4QNJioCsi9qcty8zMmqFUyEtaCrwfWEN9RkoAIuLDySozM7NZK9tdcwdwN/AAMDrFvmZmNkeUDfkFEXFl0krMzKzpyo6T/xtJ/0bSyZJeO/aVtDIzM5u1slfyrwDXAJ/i8GRkAbw+RVFmZtYcZUP+Y8DaiHg+ZTFmZtZcZbtrHgNemu7BJS2QdI+knZIekvTZ6R7DzMxmruyV/C+Bfkk/AF6dz7bEEMph4LyIGJLUDfxI0v+MiLtnVq418tJwZjaVsiH/7eJrWqK+gOxQ8WN38eUFRprgtv7dbK7gmqeWP1+8NFfZJ15vmGkDko4DdgBrgS9FxPZxr28ENgKsXr16ps1Uyp6hYTZvHeDAyOir67xu2jpA79oV/qOwjuaLl+Y7Zp+8pJuK/z4gaWDc184yDUTEoYhYD6wCzpZ0xrjXt0RELSJqPT09Mz2PSvGiIZajxouX/cMHOTAyyqatA17xbJamupL/SPHfR4CPN2wXcPV0GoqIF4s+/XcCD07nd+1IXjTEcjR28XKg4aH6sYsXf0KduWNeyUfE2HTCayPiZw1fTwJvnOrgknqKeW+QtBB4O/DTWdZceV40xHLki5c0jnklL+nfAX8IvF7SQMNLxwM/LnH8k4Ebin75LuCmiPjOTIu1w7xoiOVm7OJl07g+ef/bnh3VB8BM8qJ0IrAM+AvgEw0v7Y+IF5pdTK1Wi76+vmYf1sw6iEfXTJ+kHRFRm+i1Y17JR8Q+YB9wWYrCzMzG84pnzVX2iVczM+tADnkzs4w55M3MMuaQNzPLmEPezCxjDnkzs4w55M3MMuaQNzPLmEPezCxjDnkzszbbMzTMzqdfTDKtctmVoczMLIHUC6X4St7MrE1asVCKQ97MrE1ascqbQ97MrE1asVCKQ97MrE1ascqbb7yambVR6lXekoa8pFOArwEnAQFsiYgvpmzTzKzTpFwoJXV3zUHgYxFxOvAW4AOSTk/cZmWkHFtrZnlIeiUfEc8Czxbf75f0CLASeLjZbVVtXcjUY2vNLA8t65OXtAZ4M7B93PaNwEaA1atXz+jYVQu8xrG1B6jfmd+0dYDetSsq8QZnZuW1ZHSNpCXAVuCPIuIXja9FxJaIqEVEraenZ9rHbsXDBHNNK8bWmlkekoe8pG7qAf/1iPhWs49fxcBrxdhaM8tD0pCXJOA64JGI+HyKNqoYeK0YW2tmeUjdJ98LvA94QFJ/se1PIuKOZjUwFnibxvXJ5x54qcfWmlkeUo+u+RGglG1AdQMv5dhaM8tDNk+8OvDMzI7muWvMzDLmkDczy5hD3swsYw55M7OMOeTNzDLmkDczy5hDvoN5qmEzm0o24+Srpmozb5rZzPhKvgNVceZNM5sZh3wHquLMm2Y2Mw75DlTFmTfNbGYc8h3IUw2bWVm+8dqhqjrzpplNj0O+g3nmTTObirtrzMwylnr5v+slPSfpwZTtmJnZxFJfyX8VeGfiNszMbBJJQz4ifgi8kLINMzObnPvkzcwy1vaQl7RRUp+kvsHBwXaXY2aWlbaHfERsiYhaRNR6enraXY6ZWVbaHvLN4ml3zcyOlvRhKEk3Am8DVkjaBXwmIq5rdjuedtfMbGJJQz4iLkt5fDhy2t0D1Cft2rR1gN61K/w0qJlVXsd313jaXTOzyXV8yHvaXTOzyXV8yHvaXTOzyWUxC+WG9Ss5/eQT6H/6RdafspS1Jx3f7pLMzOaELELeo2vMzCbW8d01XtTazGxyHR/yHl1jZja5jg95j64xy4ufXm+ujg95j66xnFUt8G7r303vVdu4/Nrt9F61jdv7d7e7pI6XxY1XL2ptOaragAI/vZ5Gx1/Jj1m+ZD5nnrLU/xgsC1UcUOD7a2lkE/JmOali4Pn+WhoOebM5qIqB5/traWTRJ2/VsGdouDL3XcYCb9O4Pvncz9v315rPId/BqhR6VbsJCQ48aw6HfIe6rX83m24Z4LgucWg0uOaSfEOvyqMuli+Zn/05Nqrim3lq7pPvQHuGhvnjm3cyfHCUl145xPDBUT52885sR15U8SZkFVVxRFErJA95Se+U9KikxyR9InV7VfDQM/sYORRHbBs5FDz0zL42VZRWFW9CVpHfzNNIGvKSjgO+BFwInA5cJun0lG1Wg6a5vbN51EU1+M08jdR98mcDj0XE4wCSvglcBDycuN2svel1JzCvCw42/D3M66pvz5VvQuavqiOKUksd8iuBpxt+3gWc07iDpI3ARoDVq1cnLicPy5fM5/PvXc/Hb9nJceriUIxyzSVnZv/HULWbkFXkN/Pma/vomojYAmwBqNVqMcXuVvAfg+XKb+bNlTrkdwOnNPy8qthmTeA/BjObSurRNfcCb5B0qqTXAJcCtydu08zMCkmv5CPioKQPAt8HjgOuj4iHUrZpZmaHJe+Tj4g7gDtSt2NmZkfzE69mZhlzyJuZZUwRc2fUoqRB4GezOMQK4PkmldMpqnbOVTtf8DlXxWzO+VciomeiF+ZUyM+WpL6IqLW7jlaq2jlX7XzB51wVqc7Z3TVmZhlzyJuZZSy3kN/S7gLaoGrnXLXzBZ9zVSQ556z65M3M7Ei5XcmbmVkDh7yZWcY6PuQlLZB0j6Sdkh6S9Nl219Qqko6TdL+k77S7llaQ9KSkByT1S+prdz2tIGmppFsk/VTSI5J+s901pSTptOL/79jXLyT9UbvrSk3SR4v8elDSjZIWNO3Ynd4nL0nA4ogYktQN/Aj4SETc3ebSkpN0JVADToiId7W7ntQkPQnUIqIyD8lIugH4PxFxbTGT66KIeLHddbVCsXzobuCciJjNQ5JzmqSV1HPr9Ih4WdJNwB0R8dVmHL/jr+Sjbqj4sbv46ux3rhIkrQJ+D7i23bVYGpJOBM4FrgOIiFeqEvCF84G/zzngG8wDFkqaBywCnmnWgTs+5OHVbot+4DngrojY3u6aWuALwCZgdKodMxLAnZJ2FMtG5u5UYBD4StEtd62kxe0uqoUuBW5sdxGpRcRu4HPAU8CzwL6IuLNZx88i5CPiUESsp77y1NmSzmh3TSlJehfwXETsaHctLfbWiDgLuBD4gKRz211QYvOAs4C/jog3A78EPtHeklqj6JraANzc7lpSk7QMuIj6m/rrgMWSLm/W8bMI+THFR9kfAO9sdy2J9QIbij7qbwLnSfrb9paUXnHFQ0Q8B9wKnN3eipLbBexq+GR6C/XQr4ILgfsi4uftLqQFLgCeiIjBiBgBvgX8VrMO3vEhL6lH0tLi+4XA24GftreqtCLikxGxKiLWUP9Iuy0imvbOPxdJWizp+LHvgXcAD7a3qrQi4h+ApyWdVmw6H3i4jSW10mVUoKum8BTwFkmLioEk5wOPNOvgyVeGaoGTgRuKO/FdwE0RUYkhhRVzEnBr/W+AecA3IuJ77S2pJT4EfL3ovngcuKLN9SRXvIm/Hfi37a6lFSJiu6RbgPuAg8D9NHGKg44fQmlmZpPr+O4aMzObnEPezCxjDnkzs4w55M3MMuaQNzPLmEPezCxjDnnLnqT/JanW7jrM2sEhb3YMxayA2bVl1eGQtzlD0ppiYYwvFwso3ClpYeOVuKQVxZw9SPoDSd+WdFexoMgHJV1ZzNh4t6TXNhz+fcUiFA9KOrv4/cWSri8Wnblf0kUNx71d0jbg745R7+ZiEZOdkv6y2La+aHtA0q3F5FNHfJqY4BxebUvSyZJ+2FDrPy72e4ekn0i6T9LNkpYU2/9S0sNFe59r4v8Oy4RD3uaaNwBfiog3AS8CF0+x/xnAu4HfAP4MeKmYsfEnwPsb9ltUzFT6h8D1xbZPUZ/352zgd4BrGqbyPQu4JCJ+e6JGJV1IfebAcyLiTODq4qWvAZsjYh3wAPCZEufc2Na/AL5f1Hom0C9pBfBp4IJiFs4+4EpJy4F/DrypaO8/l2jLKsYfD22ueSIi+ovvdwBrptj/BxGxH9gvaR/wP4rtDwDrGva7ESAifijphGJSu3dQn83zj4t9FgCri+/viogXjtHuBcBXIuKl4rgvFIt8LI2I/13scwPlpsptbOte4PpilbNvR0S/pN8GTgd+XMzd8xrqb2L7gAPAdaovAek5m+woDnmba4Ybvj8ELKQ+adPYp87xa1827j/a8PMoR/77Hj9JUwACLo6IRxtfkHQO9bnbm+lY5/BqW8Wb0LnUV/36qqTPA3upvxFcNv6gRdfT+cAlwAeB85pct3U4d9dYJ3gS+PXi+0tmeIzfB5D0Vuor7+wDvg98qJjeFUlvnsbx7gKukLSo+N3XFsfcO9aPDrwPGLuqL3UOkn4F+HlEfJn60o5nAXcDvZLWFvsslvSrRb/8iRFxB/BR6t07Zkfwlbx1gs8BNxVL/n13hsc4IOl+6msA/6ti23+ivozigKQu4Amg1ILoEfE9SeuBPkmvAHcAfwL8S+C/FeHfODVw2XN4G/BxSSPAEPD+iBiU9AfAjZLmF/t9GtgP3CZpAfVPJVeWqd2qxVMNm5llzN01ZmYZc3eN2TFI+jXgb8ZtHo6Ic9pRj9l0ubvGzCxj7q4xM8uYQ97MLGMOeTOzjDnkzcwy9v8BClbVfVnxHoMAAAAASUVORK5CYII=\n"
                },
                "metadata": {
                  "needs_background": "light"
                }
              }
            ]
          }
        },
        "31f5df8cc2144f5e99444e047bde418e": {
          "model_module": "@jupyter-widgets/base",
          "model_name": "LayoutModel",
          "model_module_version": "1.2.0",
          "state": {
            "_model_module": "@jupyter-widgets/base",
            "_model_module_version": "1.2.0",
            "_model_name": "LayoutModel",
            "_view_count": null,
            "_view_module": "@jupyter-widgets/base",
            "_view_module_version": "1.2.0",
            "_view_name": "LayoutView",
            "align_content": null,
            "align_items": null,
            "align_self": null,
            "border": null,
            "bottom": null,
            "display": null,
            "flex": null,
            "flex_flow": null,
            "grid_area": null,
            "grid_auto_columns": null,
            "grid_auto_flow": null,
            "grid_auto_rows": null,
            "grid_column": null,
            "grid_gap": null,
            "grid_row": null,
            "grid_template_areas": null,
            "grid_template_columns": null,
            "grid_template_rows": null,
            "height": null,
            "justify_content": null,
            "justify_items": null,
            "left": null,
            "margin": null,
            "max_height": null,
            "max_width": null,
            "min_height": null,
            "min_width": null,
            "object_fit": null,
            "object_position": null,
            "order": null,
            "overflow": null,
            "overflow_x": null,
            "overflow_y": null,
            "padding": null,
            "right": null,
            "top": null,
            "visibility": null,
            "width": null
          }
        },
        "199338f5fdab4a21ae265f377d918456": {
          "model_module": "@jupyter-widgets/base",
          "model_name": "LayoutModel",
          "model_module_version": "1.2.0",
          "state": {
            "_model_module": "@jupyter-widgets/base",
            "_model_module_version": "1.2.0",
            "_model_name": "LayoutModel",
            "_view_count": null,
            "_view_module": "@jupyter-widgets/base",
            "_view_module_version": "1.2.0",
            "_view_name": "LayoutView",
            "align_content": null,
            "align_items": null,
            "align_self": null,
            "border": null,
            "bottom": null,
            "display": null,
            "flex": null,
            "flex_flow": null,
            "grid_area": null,
            "grid_auto_columns": null,
            "grid_auto_flow": null,
            "grid_auto_rows": null,
            "grid_column": null,
            "grid_gap": null,
            "grid_row": null,
            "grid_template_areas": null,
            "grid_template_columns": null,
            "grid_template_rows": null,
            "height": null,
            "justify_content": null,
            "justify_items": null,
            "left": null,
            "margin": null,
            "max_height": null,
            "max_width": null,
            "min_height": null,
            "min_width": null,
            "object_fit": null,
            "object_position": null,
            "order": null,
            "overflow": null,
            "overflow_x": null,
            "overflow_y": null,
            "padding": null,
            "right": null,
            "top": null,
            "visibility": null,
            "width": null
          }
        },
        "336fbbe9e5e540d4bce6bc42b0295a05": {
          "model_module": "@jupyter-widgets/controls",
          "model_name": "DescriptionStyleModel",
          "model_module_version": "1.5.0",
          "state": {
            "_model_module": "@jupyter-widgets/controls",
            "_model_module_version": "1.5.0",
            "_model_name": "DescriptionStyleModel",
            "_view_count": null,
            "_view_module": "@jupyter-widgets/base",
            "_view_module_version": "1.2.0",
            "_view_name": "StyleView",
            "description_width": ""
          }
        },
        "bd9435b29a87426fa2f77f429a9d7885": {
          "model_module": "@jupyter-widgets/base",
          "model_name": "LayoutModel",
          "model_module_version": "1.2.0",
          "state": {
            "_model_module": "@jupyter-widgets/base",
            "_model_module_version": "1.2.0",
            "_model_name": "LayoutModel",
            "_view_count": null,
            "_view_module": "@jupyter-widgets/base",
            "_view_module_version": "1.2.0",
            "_view_name": "LayoutView",
            "align_content": null,
            "align_items": null,
            "align_self": null,
            "border": null,
            "bottom": null,
            "display": null,
            "flex": null,
            "flex_flow": null,
            "grid_area": null,
            "grid_auto_columns": null,
            "grid_auto_flow": null,
            "grid_auto_rows": null,
            "grid_column": null,
            "grid_gap": null,
            "grid_row": null,
            "grid_template_areas": null,
            "grid_template_columns": null,
            "grid_template_rows": null,
            "height": null,
            "justify_content": null,
            "justify_items": null,
            "left": null,
            "margin": null,
            "max_height": null,
            "max_width": null,
            "min_height": null,
            "min_width": null,
            "object_fit": null,
            "object_position": null,
            "order": null,
            "overflow": null,
            "overflow_x": null,
            "overflow_y": null,
            "padding": null,
            "right": null,
            "top": null,
            "visibility": null,
            "width": null
          }
        },
        "248f8de76b9641199c174da77e36ed2f": {
          "model_module": "@jupyter-widgets/controls",
          "model_name": "VBoxModel",
          "model_module_version": "1.5.0",
          "state": {
            "_dom_classes": [
              "widget-interact"
            ],
            "_model_module": "@jupyter-widgets/controls",
            "_model_module_version": "1.5.0",
            "_model_name": "VBoxModel",
            "_view_count": null,
            "_view_module": "@jupyter-widgets/controls",
            "_view_module_version": "1.5.0",
            "_view_name": "VBoxView",
            "box_style": "",
            "children": [
              "IPY_MODEL_10e39a28e41842bd88d7d573e18be512",
              "IPY_MODEL_60149dfb47c1498d850f4c39b931d536",
              "IPY_MODEL_9c2eee1c438a49728a4089d602471788",
              "IPY_MODEL_2af598d6eb934630a9db429b487e2ca6"
            ],
            "layout": "IPY_MODEL_8ca4619766d445498f6ee08675531208"
          }
        },
        "10e39a28e41842bd88d7d573e18be512": {
          "model_module": "@jupyter-widgets/controls",
          "model_name": "IntSliderModel",
          "model_module_version": "1.5.0",
          "state": {
            "_dom_classes": [],
            "_model_module": "@jupyter-widgets/controls",
            "_model_module_version": "1.5.0",
            "_model_name": "IntSliderModel",
            "_view_count": null,
            "_view_module": "@jupyter-widgets/controls",
            "_view_module_version": "1.5.0",
            "_view_name": "IntSliderView",
            "continuous_update": true,
            "description": "num",
            "description_tooltip": null,
            "disabled": false,
            "layout": "IPY_MODEL_677b9cd6a6604957be874b9f81398bd1",
            "max": 7,
            "min": 3,
            "orientation": "horizontal",
            "readout": true,
            "readout_format": "d",
            "step": 1,
            "style": "IPY_MODEL_5918a2e59d35450484899b6f1708dc3d",
            "value": 3
          }
        },
        "60149dfb47c1498d850f4c39b931d536": {
          "model_module": "@jupyter-widgets/controls",
          "model_name": "DropdownModel",
          "model_module_version": "1.5.0",
          "state": {
            "_dom_classes": [],
            "_model_module": "@jupyter-widgets/controls",
            "_model_module_version": "1.5.0",
            "_model_name": "DropdownModel",
            "_options_labels": [
              "A",
              "B",
              "D",
              "C"
            ],
            "_view_count": null,
            "_view_module": "@jupyter-widgets/controls",
            "_view_module_version": "1.5.0",
            "_view_name": "DropdownView",
            "description": "div",
            "description_tooltip": null,
            "disabled": false,
            "index": 0,
            "layout": "IPY_MODEL_241c7f3d2be649fa9f6b8e0ccc903a98",
            "style": "IPY_MODEL_c3526f284df440fa99de160ea4d49d9b"
          }
        },
        "9c2eee1c438a49728a4089d602471788": {
          "model_module": "@jupyter-widgets/controls",
          "model_name": "DropdownModel",
          "model_module_version": "1.5.0",
          "state": {
            "_dom_classes": [],
            "_model_module": "@jupyter-widgets/controls",
            "_model_module_version": "1.5.0",
            "_model_name": "DropdownModel",
            "_options_labels": [
              "blue",
              "yellow",
              "green"
            ],
            "_view_count": null,
            "_view_module": "@jupyter-widgets/controls",
            "_view_module_version": "1.5.0",
            "_view_name": "DropdownView",
            "description": "col",
            "description_tooltip": null,
            "disabled": false,
            "index": 0,
            "layout": "IPY_MODEL_6f1c9e2237ad4ee5aa74eee8d799d317",
            "style": "IPY_MODEL_e2355752401a4708bb3a3245f0adcd32"
          }
        },
        "2af598d6eb934630a9db429b487e2ca6": {
          "model_module": "@jupyter-widgets/output",
          "model_name": "OutputModel",
          "model_module_version": "1.0.0",
          "state": {
            "_dom_classes": [],
            "_model_module": "@jupyter-widgets/output",
            "_model_module_version": "1.0.0",
            "_model_name": "OutputModel",
            "_view_count": null,
            "_view_module": "@jupyter-widgets/output",
            "_view_module_version": "1.0.0",
            "_view_name": "OutputView",
            "layout": "IPY_MODEL_ad14c31f86f947b48a0337b2f41955fc",
            "msg_id": "",
            "outputs": [
              {
                "output_type": "display_data",
                "data": {
                  "text/plain": "<Figure size 432x288 with 1 Axes>",
                  "image/png": "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\n"
                },
                "metadata": {
                  "needs_background": "light"
                }
              }
            ]
          }
        },
        "8ca4619766d445498f6ee08675531208": {
          "model_module": "@jupyter-widgets/base",
          "model_name": "LayoutModel",
          "model_module_version": "1.2.0",
          "state": {
            "_model_module": "@jupyter-widgets/base",
            "_model_module_version": "1.2.0",
            "_model_name": "LayoutModel",
            "_view_count": null,
            "_view_module": "@jupyter-widgets/base",
            "_view_module_version": "1.2.0",
            "_view_name": "LayoutView",
            "align_content": null,
            "align_items": null,
            "align_self": null,
            "border": null,
            "bottom": null,
            "display": null,
            "flex": null,
            "flex_flow": null,
            "grid_area": null,
            "grid_auto_columns": null,
            "grid_auto_flow": null,
            "grid_auto_rows": null,
            "grid_column": null,
            "grid_gap": null,
            "grid_row": null,
            "grid_template_areas": null,
            "grid_template_columns": null,
            "grid_template_rows": null,
            "height": null,
            "justify_content": null,
            "justify_items": null,
            "left": null,
            "margin": null,
            "max_height": null,
            "max_width": null,
            "min_height": null,
            "min_width": null,
            "object_fit": null,
            "object_position": null,
            "order": null,
            "overflow": null,
            "overflow_x": null,
            "overflow_y": null,
            "padding": null,
            "right": null,
            "top": null,
            "visibility": null,
            "width": null
          }
        },
        "677b9cd6a6604957be874b9f81398bd1": {
          "model_module": "@jupyter-widgets/base",
          "model_name": "LayoutModel",
          "model_module_version": "1.2.0",
          "state": {
            "_model_module": "@jupyter-widgets/base",
            "_model_module_version": "1.2.0",
            "_model_name": "LayoutModel",
            "_view_count": null,
            "_view_module": "@jupyter-widgets/base",
            "_view_module_version": "1.2.0",
            "_view_name": "LayoutView",
            "align_content": null,
            "align_items": null,
            "align_self": null,
            "border": null,
            "bottom": null,
            "display": null,
            "flex": null,
            "flex_flow": null,
            "grid_area": null,
            "grid_auto_columns": null,
            "grid_auto_flow": null,
            "grid_auto_rows": null,
            "grid_column": null,
            "grid_gap": null,
            "grid_row": null,
            "grid_template_areas": null,
            "grid_template_columns": null,
            "grid_template_rows": null,
            "height": null,
            "justify_content": null,
            "justify_items": null,
            "left": null,
            "margin": null,
            "max_height": null,
            "max_width": null,
            "min_height": null,
            "min_width": null,
            "object_fit": null,
            "object_position": null,
            "order": null,
            "overflow": null,
            "overflow_x": null,
            "overflow_y": null,
            "padding": null,
            "right": null,
            "top": null,
            "visibility": null,
            "width": null
          }
        },
        "5918a2e59d35450484899b6f1708dc3d": {
          "model_module": "@jupyter-widgets/controls",
          "model_name": "SliderStyleModel",
          "model_module_version": "1.5.0",
          "state": {
            "_model_module": "@jupyter-widgets/controls",
            "_model_module_version": "1.5.0",
            "_model_name": "SliderStyleModel",
            "_view_count": null,
            "_view_module": "@jupyter-widgets/base",
            "_view_module_version": "1.2.0",
            "_view_name": "StyleView",
            "description_width": "",
            "handle_color": null
          }
        },
        "241c7f3d2be649fa9f6b8e0ccc903a98": {
          "model_module": "@jupyter-widgets/base",
          "model_name": "LayoutModel",
          "model_module_version": "1.2.0",
          "state": {
            "_model_module": "@jupyter-widgets/base",
            "_model_module_version": "1.2.0",
            "_model_name": "LayoutModel",
            "_view_count": null,
            "_view_module": "@jupyter-widgets/base",
            "_view_module_version": "1.2.0",
            "_view_name": "LayoutView",
            "align_content": null,
            "align_items": null,
            "align_self": null,
            "border": null,
            "bottom": null,
            "display": null,
            "flex": null,
            "flex_flow": null,
            "grid_area": null,
            "grid_auto_columns": null,
            "grid_auto_flow": null,
            "grid_auto_rows": null,
            "grid_column": null,
            "grid_gap": null,
            "grid_row": null,
            "grid_template_areas": null,
            "grid_template_columns": null,
            "grid_template_rows": null,
            "height": null,
            "justify_content": null,
            "justify_items": null,
            "left": null,
            "margin": null,
            "max_height": null,
            "max_width": null,
            "min_height": null,
            "min_width": null,
            "object_fit": null,
            "object_position": null,
            "order": null,
            "overflow": null,
            "overflow_x": null,
            "overflow_y": null,
            "padding": null,
            "right": null,
            "top": null,
            "visibility": null,
            "width": null
          }
        },
        "c3526f284df440fa99de160ea4d49d9b": {
          "model_module": "@jupyter-widgets/controls",
          "model_name": "DescriptionStyleModel",
          "model_module_version": "1.5.0",
          "state": {
            "_model_module": "@jupyter-widgets/controls",
            "_model_module_version": "1.5.0",
            "_model_name": "DescriptionStyleModel",
            "_view_count": null,
            "_view_module": "@jupyter-widgets/base",
            "_view_module_version": "1.2.0",
            "_view_name": "StyleView",
            "description_width": ""
          }
        },
        "6f1c9e2237ad4ee5aa74eee8d799d317": {
          "model_module": "@jupyter-widgets/base",
          "model_name": "LayoutModel",
          "model_module_version": "1.2.0",
          "state": {
            "_model_module": "@jupyter-widgets/base",
            "_model_module_version": "1.2.0",
            "_model_name": "LayoutModel",
            "_view_count": null,
            "_view_module": "@jupyter-widgets/base",
            "_view_module_version": "1.2.0",
            "_view_name": "LayoutView",
            "align_content": null,
            "align_items": null,
            "align_self": null,
            "border": null,
            "bottom": null,
            "display": null,
            "flex": null,
            "flex_flow": null,
            "grid_area": null,
            "grid_auto_columns": null,
            "grid_auto_flow": null,
            "grid_auto_rows": null,
            "grid_column": null,
            "grid_gap": null,
            "grid_row": null,
            "grid_template_areas": null,
            "grid_template_columns": null,
            "grid_template_rows": null,
            "height": null,
            "justify_content": null,
            "justify_items": null,
            "left": null,
            "margin": null,
            "max_height": null,
            "max_width": null,
            "min_height": null,
            "min_width": null,
            "object_fit": null,
            "object_position": null,
            "order": null,
            "overflow": null,
            "overflow_x": null,
            "overflow_y": null,
            "padding": null,
            "right": null,
            "top": null,
            "visibility": null,
            "width": null
          }
        },
        "e2355752401a4708bb3a3245f0adcd32": {
          "model_module": "@jupyter-widgets/controls",
          "model_name": "DescriptionStyleModel",
          "model_module_version": "1.5.0",
          "state": {
            "_model_module": "@jupyter-widgets/controls",
            "_model_module_version": "1.5.0",
            "_model_name": "DescriptionStyleModel",
            "_view_count": null,
            "_view_module": "@jupyter-widgets/base",
            "_view_module_version": "1.2.0",
            "_view_name": "StyleView",
            "description_width": ""
          }
        },
        "ad14c31f86f947b48a0337b2f41955fc": {
          "model_module": "@jupyter-widgets/base",
          "model_name": "LayoutModel",
          "model_module_version": "1.2.0",
          "state": {
            "_model_module": "@jupyter-widgets/base",
            "_model_module_version": "1.2.0",
            "_model_name": "LayoutModel",
            "_view_count": null,
            "_view_module": "@jupyter-widgets/base",
            "_view_module_version": "1.2.0",
            "_view_name": "LayoutView",
            "align_content": null,
            "align_items": null,
            "align_self": null,
            "border": null,
            "bottom": null,
            "display": null,
            "flex": null,
            "flex_flow": null,
            "grid_area": null,
            "grid_auto_columns": null,
            "grid_auto_flow": null,
            "grid_auto_rows": null,
            "grid_column": null,
            "grid_gap": null,
            "grid_row": null,
            "grid_template_areas": null,
            "grid_template_columns": null,
            "grid_template_rows": null,
            "height": null,
            "justify_content": null,
            "justify_items": null,
            "left": null,
            "margin": null,
            "max_height": null,
            "max_width": null,
            "min_height": null,
            "min_width": null,
            "object_fit": null,
            "object_position": null,
            "order": null,
            "overflow": null,
            "overflow_x": null,
            "overflow_y": null,
            "padding": null,
            "right": null,
            "top": null,
            "visibility": null,
            "width": null
          }
        },
        "1edbc8f690bd4c23ab4784ae6bff9d3f": {
          "model_module": "@jupyter-widgets/controls",
          "model_name": "VBoxModel",
          "model_module_version": "1.5.0",
          "state": {
            "_dom_classes": [
              "widget-interact"
            ],
            "_model_module": "@jupyter-widgets/controls",
            "_model_module_version": "1.5.0",
            "_model_name": "VBoxModel",
            "_view_count": null,
            "_view_module": "@jupyter-widgets/controls",
            "_view_module_version": "1.5.0",
            "_view_name": "VBoxView",
            "box_style": "",
            "children": [
              "IPY_MODEL_c360c519943b41e98e585d3cd344cb0e",
              "IPY_MODEL_ca8b9e57f30843bbb967930f41d0cc56",
              "IPY_MODEL_e3c61a7e008048f6afb9c7baa457e110",
              "IPY_MODEL_0cdb4361acd043cebdc4059534290478",
              "IPY_MODEL_5cb1e37132524673aa05bb0deef26a21"
            ],
            "layout": "IPY_MODEL_f52268ae187a421582d0452599f01da4"
          }
        },
        "c360c519943b41e98e585d3cd344cb0e": {
          "model_module": "@jupyter-widgets/controls",
          "model_name": "IntSliderModel",
          "model_module_version": "1.5.0",
          "state": {
            "_dom_classes": [],
            "_model_module": "@jupyter-widgets/controls",
            "_model_module_version": "1.5.0",
            "_model_name": "IntSliderModel",
            "_view_count": null,
            "_view_module": "@jupyter-widgets/controls",
            "_view_module_version": "1.5.0",
            "_view_name": "IntSliderView",
            "continuous_update": true,
            "description": "num",
            "description_tooltip": null,
            "disabled": false,
            "layout": "IPY_MODEL_3b9f6dfc12514e77aa98fe6129979029",
            "max": 7,
            "min": 3,
            "orientation": "horizontal",
            "readout": true,
            "readout_format": "d",
            "step": 1,
            "style": "IPY_MODEL_8df5fb39469043f7a1fc088af0063347",
            "value": 3
          }
        },
        "ca8b9e57f30843bbb967930f41d0cc56": {
          "model_module": "@jupyter-widgets/controls",
          "model_name": "DropdownModel",
          "model_module_version": "1.5.0",
          "state": {
            "_dom_classes": [],
            "_model_module": "@jupyter-widgets/controls",
            "_model_module_version": "1.5.0",
            "_model_name": "DropdownModel",
            "_options_labels": [
              "A",
              "B",
              "D",
              "C"
            ],
            "_view_count": null,
            "_view_module": "@jupyter-widgets/controls",
            "_view_module_version": "1.5.0",
            "_view_name": "DropdownView",
            "description": "div",
            "description_tooltip": null,
            "disabled": false,
            "index": 0,
            "layout": "IPY_MODEL_0f5b7498dc224dee93a548d5921570d0",
            "style": "IPY_MODEL_526a3fae927b42f49d177f3f636f2099"
          }
        },
        "e3c61a7e008048f6afb9c7baa457e110": {
          "model_module": "@jupyter-widgets/controls",
          "model_name": "DropdownModel",
          "model_module_version": "1.5.0",
          "state": {
            "_dom_classes": [],
            "_model_module": "@jupyter-widgets/controls",
            "_model_module_version": "1.5.0",
            "_model_name": "DropdownModel",
            "_options_labels": [
              "blue",
              "yellow",
              "green"
            ],
            "_view_count": null,
            "_view_module": "@jupyter-widgets/controls",
            "_view_module_version": "1.5.0",
            "_view_name": "DropdownView",
            "description": "col",
            "description_tooltip": null,
            "disabled": false,
            "index": 0,
            "layout": "IPY_MODEL_305448bc483a42c2915111e3f8ce655c",
            "style": "IPY_MODEL_e99d9cd53272413a93ceddb24423ef71"
          }
        },
        "0cdb4361acd043cebdc4059534290478": {
          "model_module": "@jupyter-widgets/controls",
          "model_name": "CheckboxModel",
          "model_module_version": "1.5.0",
          "state": {
            "_dom_classes": [],
            "_model_module": "@jupyter-widgets/controls",
            "_model_module_version": "1.5.0",
            "_model_name": "CheckboxModel",
            "_view_count": null,
            "_view_module": "@jupyter-widgets/controls",
            "_view_module_version": "1.5.0",
            "_view_name": "CheckboxView",
            "description": "show_line",
            "description_tooltip": null,
            "disabled": false,
            "indent": true,
            "layout": "IPY_MODEL_7034d5bc1a704ee082dd69fa03fcec4c",
            "style": "IPY_MODEL_f36bf83221b848f0bfa970ddb31cb9e3",
            "value": true
          }
        },
        "5cb1e37132524673aa05bb0deef26a21": {
          "model_module": "@jupyter-widgets/output",
          "model_name": "OutputModel",
          "model_module_version": "1.0.0",
          "state": {
            "_dom_classes": [],
            "_model_module": "@jupyter-widgets/output",
            "_model_module_version": "1.0.0",
            "_model_name": "OutputModel",
            "_view_count": null,
            "_view_module": "@jupyter-widgets/output",
            "_view_module_version": "1.0.0",
            "_view_name": "OutputView",
            "layout": "IPY_MODEL_68be26dba9dd44e4a1d5e302867a6f63",
            "msg_id": "",
            "outputs": [
              {
                "output_type": "stream",
                "name": "stderr",
                "text": [
                  "/usr/local/lib/python3.7/dist-packages/seaborn/distributions.py:2619: FutureWarning: `distplot` is a deprecated function and will be removed in a future version. Please adapt your code to use either `displot` (a figure-level function with similar flexibility) or `histplot` (an axes-level function for histograms).\n",
                  "  warnings.warn(msg, FutureWarning)\n"
                ]
              },
              {
                "output_type": "display_data",
                "data": {
                  "text/plain": "<Figure size 432x288 with 1 Axes>",
                  "image/png": "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\n"
                },
                "metadata": {
                  "needs_background": "light"
                }
              }
            ]
          }
        },
        "f52268ae187a421582d0452599f01da4": {
          "model_module": "@jupyter-widgets/base",
          "model_name": "LayoutModel",
          "model_module_version": "1.2.0",
          "state": {
            "_model_module": "@jupyter-widgets/base",
            "_model_module_version": "1.2.0",
            "_model_name": "LayoutModel",
            "_view_count": null,
            "_view_module": "@jupyter-widgets/base",
            "_view_module_version": "1.2.0",
            "_view_name": "LayoutView",
            "align_content": null,
            "align_items": null,
            "align_self": null,
            "border": null,
            "bottom": null,
            "display": null,
            "flex": null,
            "flex_flow": null,
            "grid_area": null,
            "grid_auto_columns": null,
            "grid_auto_flow": null,
            "grid_auto_rows": null,
            "grid_column": null,
            "grid_gap": null,
            "grid_row": null,
            "grid_template_areas": null,
            "grid_template_columns": null,
            "grid_template_rows": null,
            "height": null,
            "justify_content": null,
            "justify_items": null,
            "left": null,
            "margin": null,
            "max_height": null,
            "max_width": null,
            "min_height": null,
            "min_width": null,
            "object_fit": null,
            "object_position": null,
            "order": null,
            "overflow": null,
            "overflow_x": null,
            "overflow_y": null,
            "padding": null,
            "right": null,
            "top": null,
            "visibility": null,
            "width": null
          }
        },
        "3b9f6dfc12514e77aa98fe6129979029": {
          "model_module": "@jupyter-widgets/base",
          "model_name": "LayoutModel",
          "model_module_version": "1.2.0",
          "state": {
            "_model_module": "@jupyter-widgets/base",
            "_model_module_version": "1.2.0",
            "_model_name": "LayoutModel",
            "_view_count": null,
            "_view_module": "@jupyter-widgets/base",
            "_view_module_version": "1.2.0",
            "_view_name": "LayoutView",
            "align_content": null,
            "align_items": null,
            "align_self": null,
            "border": null,
            "bottom": null,
            "display": null,
            "flex": null,
            "flex_flow": null,
            "grid_area": null,
            "grid_auto_columns": null,
            "grid_auto_flow": null,
            "grid_auto_rows": null,
            "grid_column": null,
            "grid_gap": null,
            "grid_row": null,
            "grid_template_areas": null,
            "grid_template_columns": null,
            "grid_template_rows": null,
            "height": null,
            "justify_content": null,
            "justify_items": null,
            "left": null,
            "margin": null,
            "max_height": null,
            "max_width": null,
            "min_height": null,
            "min_width": null,
            "object_fit": null,
            "object_position": null,
            "order": null,
            "overflow": null,
            "overflow_x": null,
            "overflow_y": null,
            "padding": null,
            "right": null,
            "top": null,
            "visibility": null,
            "width": null
          }
        },
        "8df5fb39469043f7a1fc088af0063347": {
          "model_module": "@jupyter-widgets/controls",
          "model_name": "SliderStyleModel",
          "model_module_version": "1.5.0",
          "state": {
            "_model_module": "@jupyter-widgets/controls",
            "_model_module_version": "1.5.0",
            "_model_name": "SliderStyleModel",
            "_view_count": null,
            "_view_module": "@jupyter-widgets/base",
            "_view_module_version": "1.2.0",
            "_view_name": "StyleView",
            "description_width": "",
            "handle_color": null
          }
        },
        "0f5b7498dc224dee93a548d5921570d0": {
          "model_module": "@jupyter-widgets/base",
          "model_name": "LayoutModel",
          "model_module_version": "1.2.0",
          "state": {
            "_model_module": "@jupyter-widgets/base",
            "_model_module_version": "1.2.0",
            "_model_name": "LayoutModel",
            "_view_count": null,
            "_view_module": "@jupyter-widgets/base",
            "_view_module_version": "1.2.0",
            "_view_name": "LayoutView",
            "align_content": null,
            "align_items": null,
            "align_self": null,
            "border": null,
            "bottom": null,
            "display": null,
            "flex": null,
            "flex_flow": null,
            "grid_area": null,
            "grid_auto_columns": null,
            "grid_auto_flow": null,
            "grid_auto_rows": null,
            "grid_column": null,
            "grid_gap": null,
            "grid_row": null,
            "grid_template_areas": null,
            "grid_template_columns": null,
            "grid_template_rows": null,
            "height": null,
            "justify_content": null,
            "justify_items": null,
            "left": null,
            "margin": null,
            "max_height": null,
            "max_width": null,
            "min_height": null,
            "min_width": null,
            "object_fit": null,
            "object_position": null,
            "order": null,
            "overflow": null,
            "overflow_x": null,
            "overflow_y": null,
            "padding": null,
            "right": null,
            "top": null,
            "visibility": null,
            "width": null
          }
        },
        "526a3fae927b42f49d177f3f636f2099": {
          "model_module": "@jupyter-widgets/controls",
          "model_name": "DescriptionStyleModel",
          "model_module_version": "1.5.0",
          "state": {
            "_model_module": "@jupyter-widgets/controls",
            "_model_module_version": "1.5.0",
            "_model_name": "DescriptionStyleModel",
            "_view_count": null,
            "_view_module": "@jupyter-widgets/base",
            "_view_module_version": "1.2.0",
            "_view_name": "StyleView",
            "description_width": ""
          }
        },
        "305448bc483a42c2915111e3f8ce655c": {
          "model_module": "@jupyter-widgets/base",
          "model_name": "LayoutModel",
          "model_module_version": "1.2.0",
          "state": {
            "_model_module": "@jupyter-widgets/base",
            "_model_module_version": "1.2.0",
            "_model_name": "LayoutModel",
            "_view_count": null,
            "_view_module": "@jupyter-widgets/base",
            "_view_module_version": "1.2.0",
            "_view_name": "LayoutView",
            "align_content": null,
            "align_items": null,
            "align_self": null,
            "border": null,
            "bottom": null,
            "display": null,
            "flex": null,
            "flex_flow": null,
            "grid_area": null,
            "grid_auto_columns": null,
            "grid_auto_flow": null,
            "grid_auto_rows": null,
            "grid_column": null,
            "grid_gap": null,
            "grid_row": null,
            "grid_template_areas": null,
            "grid_template_columns": null,
            "grid_template_rows": null,
            "height": null,
            "justify_content": null,
            "justify_items": null,
            "left": null,
            "margin": null,
            "max_height": null,
            "max_width": null,
            "min_height": null,
            "min_width": null,
            "object_fit": null,
            "object_position": null,
            "order": null,
            "overflow": null,
            "overflow_x": null,
            "overflow_y": null,
            "padding": null,
            "right": null,
            "top": null,
            "visibility": null,
            "width": null
          }
        },
        "e99d9cd53272413a93ceddb24423ef71": {
          "model_module": "@jupyter-widgets/controls",
          "model_name": "DescriptionStyleModel",
          "model_module_version": "1.5.0",
          "state": {
            "_model_module": "@jupyter-widgets/controls",
            "_model_module_version": "1.5.0",
            "_model_name": "DescriptionStyleModel",
            "_view_count": null,
            "_view_module": "@jupyter-widgets/base",
            "_view_module_version": "1.2.0",
            "_view_name": "StyleView",
            "description_width": ""
          }
        },
        "7034d5bc1a704ee082dd69fa03fcec4c": {
          "model_module": "@jupyter-widgets/base",
          "model_name": "LayoutModel",
          "model_module_version": "1.2.0",
          "state": {
            "_model_module": "@jupyter-widgets/base",
            "_model_module_version": "1.2.0",
            "_model_name": "LayoutModel",
            "_view_count": null,
            "_view_module": "@jupyter-widgets/base",
            "_view_module_version": "1.2.0",
            "_view_name": "LayoutView",
            "align_content": null,
            "align_items": null,
            "align_self": null,
            "border": null,
            "bottom": null,
            "display": null,
            "flex": null,
            "flex_flow": null,
            "grid_area": null,
            "grid_auto_columns": null,
            "grid_auto_flow": null,
            "grid_auto_rows": null,
            "grid_column": null,
            "grid_gap": null,
            "grid_row": null,
            "grid_template_areas": null,
            "grid_template_columns": null,
            "grid_template_rows": null,
            "height": null,
            "justify_content": null,
            "justify_items": null,
            "left": null,
            "margin": null,
            "max_height": null,
            "max_width": null,
            "min_height": null,
            "min_width": null,
            "object_fit": null,
            "object_position": null,
            "order": null,
            "overflow": null,
            "overflow_x": null,
            "overflow_y": null,
            "padding": null,
            "right": null,
            "top": null,
            "visibility": null,
            "width": null
          }
        },
        "f36bf83221b848f0bfa970ddb31cb9e3": {
          "model_module": "@jupyter-widgets/controls",
          "model_name": "DescriptionStyleModel",
          "model_module_version": "1.5.0",
          "state": {
            "_model_module": "@jupyter-widgets/controls",
            "_model_module_version": "1.5.0",
            "_model_name": "DescriptionStyleModel",
            "_view_count": null,
            "_view_module": "@jupyter-widgets/base",
            "_view_module_version": "1.2.0",
            "_view_name": "StyleView",
            "description_width": ""
          }
        },
        "68be26dba9dd44e4a1d5e302867a6f63": {
          "model_module": "@jupyter-widgets/base",
          "model_name": "LayoutModel",
          "model_module_version": "1.2.0",
          "state": {
            "_model_module": "@jupyter-widgets/base",
            "_model_module_version": "1.2.0",
            "_model_name": "LayoutModel",
            "_view_count": null,
            "_view_module": "@jupyter-widgets/base",
            "_view_module_version": "1.2.0",
            "_view_name": "LayoutView",
            "align_content": null,
            "align_items": null,
            "align_self": null,
            "border": null,
            "bottom": null,
            "display": null,
            "flex": null,
            "flex_flow": null,
            "grid_area": null,
            "grid_auto_columns": null,
            "grid_auto_flow": null,
            "grid_auto_rows": null,
            "grid_column": null,
            "grid_gap": null,
            "grid_row": null,
            "grid_template_areas": null,
            "grid_template_columns": null,
            "grid_template_rows": null,
            "height": null,
            "justify_content": null,
            "justify_items": null,
            "left": null,
            "margin": null,
            "max_height": null,
            "max_width": null,
            "min_height": null,
            "min_width": null,
            "object_fit": null,
            "object_position": null,
            "order": null,
            "overflow": null,
            "overflow_x": null,
            "overflow_y": null,
            "padding": null,
            "right": null,
            "top": null,
            "visibility": null,
            "width": null
          }
        }
      }
    }
  },
  "cells": [
    {
      "cell_type": "code",
      "execution_count": 1,
      "metadata": {
        "id": "uviLazax6Hx-"
      },
      "outputs": [],
      "source": [
        "\n",
        "\"\"\"\n",
        "Use the link for reference reading\n",
        "https://blog.ouseful.info/2016/12/29/simple-view-controls-for-pandas-dataframes-using-ipython-widgets/\n",
        "\n",
        "Check this video too if needed to understand from scratch\n",
        "https://www.youtube.com/watch?v=jWT-HXv0LUQ\n",
        "\"\"\"\n",
        "\n",
        "import ipywidgets\n",
        "import numpy as np\n",
        "import matplotlib.pyplot as plt\n",
        "import pandas as pd"
      ]
    },
    {
      "cell_type": "code",
      "source": [
        "from google.colab import files\n",
        "uploaded = files.upload()"
      ],
      "metadata": {
        "colab": {
          "base_uri": "https://localhost:8080/",
          "height": 74
        },
        "id": "f8bWWJid6SpF",
        "outputId": "ef70c21a-38eb-4657-c854-48d0d9091417"
      },
      "execution_count": 2,
      "outputs": [
        {
          "output_type": "display_data",
          "data": {
            "text/plain": [
              "<IPython.core.display.HTML object>"
            ],
            "text/html": [
              "\n",
              "     <input type=\"file\" id=\"files-189b876d-a5f4-47ab-a379-108f6335aa86\" name=\"files[]\" multiple disabled\n",
              "        style=\"border:none\" />\n",
              "     <output id=\"result-189b876d-a5f4-47ab-a379-108f6335aa86\">\n",
              "      Upload widget is only available when the cell has been executed in the\n",
              "      current browser session. Please rerun this cell to enable.\n",
              "      </output>\n",
              "      <script>// Copyright 2017 Google LLC\n",
              "//\n",
              "// Licensed under the Apache License, Version 2.0 (the \"License\");\n",
              "// you may not use this file except in compliance with the License.\n",
              "// You may obtain a copy of the License at\n",
              "//\n",
              "//      http://www.apache.org/licenses/LICENSE-2.0\n",
              "//\n",
              "// Unless required by applicable law or agreed to in writing, software\n",
              "// distributed under the License is distributed on an \"AS IS\" BASIS,\n",
              "// WITHOUT WARRANTIES OR CONDITIONS OF ANY KIND, either express or implied.\n",
              "// See the License for the specific language governing permissions and\n",
              "// limitations under the License.\n",
              "\n",
              "/**\n",
              " * @fileoverview Helpers for google.colab Python module.\n",
              " */\n",
              "(function(scope) {\n",
              "function span(text, styleAttributes = {}) {\n",
              "  const element = document.createElement('span');\n",
              "  element.textContent = text;\n",
              "  for (const key of Object.keys(styleAttributes)) {\n",
              "    element.style[key] = styleAttributes[key];\n",
              "  }\n",
              "  return element;\n",
              "}\n",
              "\n",
              "// Max number of bytes which will be uploaded at a time.\n",
              "const MAX_PAYLOAD_SIZE = 100 * 1024;\n",
              "\n",
              "function _uploadFiles(inputId, outputId) {\n",
              "  const steps = uploadFilesStep(inputId, outputId);\n",
              "  const outputElement = document.getElementById(outputId);\n",
              "  // Cache steps on the outputElement to make it available for the next call\n",
              "  // to uploadFilesContinue from Python.\n",
              "  outputElement.steps = steps;\n",
              "\n",
              "  return _uploadFilesContinue(outputId);\n",
              "}\n",
              "\n",
              "// This is roughly an async generator (not supported in the browser yet),\n",
              "// where there are multiple asynchronous steps and the Python side is going\n",
              "// to poll for completion of each step.\n",
              "// This uses a Promise to block the python side on completion of each step,\n",
              "// then passes the result of the previous step as the input to the next step.\n",
              "function _uploadFilesContinue(outputId) {\n",
              "  const outputElement = document.getElementById(outputId);\n",
              "  const steps = outputElement.steps;\n",
              "\n",
              "  const next = steps.next(outputElement.lastPromiseValue);\n",
              "  return Promise.resolve(next.value.promise).then((value) => {\n",
              "    // Cache the last promise value to make it available to the next\n",
              "    // step of the generator.\n",
              "    outputElement.lastPromiseValue = value;\n",
              "    return next.value.response;\n",
              "  });\n",
              "}\n",
              "\n",
              "/**\n",
              " * Generator function which is called between each async step of the upload\n",
              " * process.\n",
              " * @param {string} inputId Element ID of the input file picker element.\n",
              " * @param {string} outputId Element ID of the output display.\n",
              " * @return {!Iterable<!Object>} Iterable of next steps.\n",
              " */\n",
              "function* uploadFilesStep(inputId, outputId) {\n",
              "  const inputElement = document.getElementById(inputId);\n",
              "  inputElement.disabled = false;\n",
              "\n",
              "  const outputElement = document.getElementById(outputId);\n",
              "  outputElement.innerHTML = '';\n",
              "\n",
              "  const pickedPromise = new Promise((resolve) => {\n",
              "    inputElement.addEventListener('change', (e) => {\n",
              "      resolve(e.target.files);\n",
              "    });\n",
              "  });\n",
              "\n",
              "  const cancel = document.createElement('button');\n",
              "  inputElement.parentElement.appendChild(cancel);\n",
              "  cancel.textContent = 'Cancel upload';\n",
              "  const cancelPromise = new Promise((resolve) => {\n",
              "    cancel.onclick = () => {\n",
              "      resolve(null);\n",
              "    };\n",
              "  });\n",
              "\n",
              "  // Wait for the user to pick the files.\n",
              "  const files = yield {\n",
              "    promise: Promise.race([pickedPromise, cancelPromise]),\n",
              "    response: {\n",
              "      action: 'starting',\n",
              "    }\n",
              "  };\n",
              "\n",
              "  cancel.remove();\n",
              "\n",
              "  // Disable the input element since further picks are not allowed.\n",
              "  inputElement.disabled = true;\n",
              "\n",
              "  if (!files) {\n",
              "    return {\n",
              "      response: {\n",
              "        action: 'complete',\n",
              "      }\n",
              "    };\n",
              "  }\n",
              "\n",
              "  for (const file of files) {\n",
              "    const li = document.createElement('li');\n",
              "    li.append(span(file.name, {fontWeight: 'bold'}));\n",
              "    li.append(span(\n",
              "        `(${file.type || 'n/a'}) - ${file.size} bytes, ` +\n",
              "        `last modified: ${\n",
              "            file.lastModifiedDate ? file.lastModifiedDate.toLocaleDateString() :\n",
              "                                    'n/a'} - `));\n",
              "    const percent = span('0% done');\n",
              "    li.appendChild(percent);\n",
              "\n",
              "    outputElement.appendChild(li);\n",
              "\n",
              "    const fileDataPromise = new Promise((resolve) => {\n",
              "      const reader = new FileReader();\n",
              "      reader.onload = (e) => {\n",
              "        resolve(e.target.result);\n",
              "      };\n",
              "      reader.readAsArrayBuffer(file);\n",
              "    });\n",
              "    // Wait for the data to be ready.\n",
              "    let fileData = yield {\n",
              "      promise: fileDataPromise,\n",
              "      response: {\n",
              "        action: 'continue',\n",
              "      }\n",
              "    };\n",
              "\n",
              "    // Use a chunked sending to avoid message size limits. See b/62115660.\n",
              "    let position = 0;\n",
              "    do {\n",
              "      const length = Math.min(fileData.byteLength - position, MAX_PAYLOAD_SIZE);\n",
              "      const chunk = new Uint8Array(fileData, position, length);\n",
              "      position += length;\n",
              "\n",
              "      const base64 = btoa(String.fromCharCode.apply(null, chunk));\n",
              "      yield {\n",
              "        response: {\n",
              "          action: 'append',\n",
              "          file: file.name,\n",
              "          data: base64,\n",
              "        },\n",
              "      };\n",
              "\n",
              "      let percentDone = fileData.byteLength === 0 ?\n",
              "          100 :\n",
              "          Math.round((position / fileData.byteLength) * 100);\n",
              "      percent.textContent = `${percentDone}% done`;\n",
              "\n",
              "    } while (position < fileData.byteLength);\n",
              "  }\n",
              "\n",
              "  // All done.\n",
              "  yield {\n",
              "    response: {\n",
              "      action: 'complete',\n",
              "    }\n",
              "  };\n",
              "}\n",
              "\n",
              "scope.google = scope.google || {};\n",
              "scope.google.colab = scope.google.colab || {};\n",
              "scope.google.colab._files = {\n",
              "  _uploadFiles,\n",
              "  _uploadFilesContinue,\n",
              "};\n",
              "})(self);\n",
              "</script> "
            ]
          },
          "metadata": {}
        },
        {
          "output_type": "stream",
          "name": "stdout",
          "text": [
            "Saving Student_Marks.csv to Student_Marks.csv\n"
          ]
        }
      ]
    },
    {
      "cell_type": "code",
      "source": [
        "import io\n",
        "df = pd.read_csv(io.BytesIO(uploaded['Student_Marks.csv']))\n",
        "df"
      ],
      "metadata": {
        "colab": {
          "base_uri": "https://localhost:8080/",
          "height": 424
        },
        "id": "k0eYcds8A8HW",
        "outputId": "a082cf0b-2322-4fdd-d840-2d2abb2e1a5f"
      },
      "execution_count": 3,
      "outputs": [
        {
          "output_type": "execute_result",
          "data": {
            "text/plain": [
              "    number_courses  time_study   Marks  Gender Division\n",
              "0                3       4.508  19.202    Male        B\n",
              "1                4       0.096   7.734  Female        D\n",
              "2                4       3.133  13.811  Female        C\n",
              "3                6       7.909  53.018  Female        C\n",
              "4                8       7.811  55.299    Male        A\n",
              "..             ...         ...     ...     ...      ...\n",
              "95               6       3.561  19.128    Male        B\n",
              "96               3       0.301   5.609  Female        A\n",
              "97               4       7.163  41.444  Female        D\n",
              "98               7       0.309  12.027    Male        A\n",
              "99               3       6.335  32.357    Male        D\n",
              "\n",
              "[100 rows x 5 columns]"
            ],
            "text/html": [
              "\n",
              "  <div id=\"df-e7bd3d09-e6f8-42fd-bd1e-6c7c910550c9\">\n",
              "    <div class=\"colab-df-container\">\n",
              "      <div>\n",
              "<style scoped>\n",
              "    .dataframe tbody tr th:only-of-type {\n",
              "        vertical-align: middle;\n",
              "    }\n",
              "\n",
              "    .dataframe tbody tr th {\n",
              "        vertical-align: top;\n",
              "    }\n",
              "\n",
              "    .dataframe thead th {\n",
              "        text-align: right;\n",
              "    }\n",
              "</style>\n",
              "<table border=\"1\" class=\"dataframe\">\n",
              "  <thead>\n",
              "    <tr style=\"text-align: right;\">\n",
              "      <th></th>\n",
              "      <th>number_courses</th>\n",
              "      <th>time_study</th>\n",
              "      <th>Marks</th>\n",
              "      <th>Gender</th>\n",
              "      <th>Division</th>\n",
              "    </tr>\n",
              "  </thead>\n",
              "  <tbody>\n",
              "    <tr>\n",
              "      <th>0</th>\n",
              "      <td>3</td>\n",
              "      <td>4.508</td>\n",
              "      <td>19.202</td>\n",
              "      <td>Male</td>\n",
              "      <td>B</td>\n",
              "    </tr>\n",
              "    <tr>\n",
              "      <th>1</th>\n",
              "      <td>4</td>\n",
              "      <td>0.096</td>\n",
              "      <td>7.734</td>\n",
              "      <td>Female</td>\n",
              "      <td>D</td>\n",
              "    </tr>\n",
              "    <tr>\n",
              "      <th>2</th>\n",
              "      <td>4</td>\n",
              "      <td>3.133</td>\n",
              "      <td>13.811</td>\n",
              "      <td>Female</td>\n",
              "      <td>C</td>\n",
              "    </tr>\n",
              "    <tr>\n",
              "      <th>3</th>\n",
              "      <td>6</td>\n",
              "      <td>7.909</td>\n",
              "      <td>53.018</td>\n",
              "      <td>Female</td>\n",
              "      <td>C</td>\n",
              "    </tr>\n",
              "    <tr>\n",
              "      <th>4</th>\n",
              "      <td>8</td>\n",
              "      <td>7.811</td>\n",
              "      <td>55.299</td>\n",
              "      <td>Male</td>\n",
              "      <td>A</td>\n",
              "    </tr>\n",
              "    <tr>\n",
              "      <th>...</th>\n",
              "      <td>...</td>\n",
              "      <td>...</td>\n",
              "      <td>...</td>\n",
              "      <td>...</td>\n",
              "      <td>...</td>\n",
              "    </tr>\n",
              "    <tr>\n",
              "      <th>95</th>\n",
              "      <td>6</td>\n",
              "      <td>3.561</td>\n",
              "      <td>19.128</td>\n",
              "      <td>Male</td>\n",
              "      <td>B</td>\n",
              "    </tr>\n",
              "    <tr>\n",
              "      <th>96</th>\n",
              "      <td>3</td>\n",
              "      <td>0.301</td>\n",
              "      <td>5.609</td>\n",
              "      <td>Female</td>\n",
              "      <td>A</td>\n",
              "    </tr>\n",
              "    <tr>\n",
              "      <th>97</th>\n",
              "      <td>4</td>\n",
              "      <td>7.163</td>\n",
              "      <td>41.444</td>\n",
              "      <td>Female</td>\n",
              "      <td>D</td>\n",
              "    </tr>\n",
              "    <tr>\n",
              "      <th>98</th>\n",
              "      <td>7</td>\n",
              "      <td>0.309</td>\n",
              "      <td>12.027</td>\n",
              "      <td>Male</td>\n",
              "      <td>A</td>\n",
              "    </tr>\n",
              "    <tr>\n",
              "      <th>99</th>\n",
              "      <td>3</td>\n",
              "      <td>6.335</td>\n",
              "      <td>32.357</td>\n",
              "      <td>Male</td>\n",
              "      <td>D</td>\n",
              "    </tr>\n",
              "  </tbody>\n",
              "</table>\n",
              "<p>100 rows × 5 columns</p>\n",
              "</div>\n",
              "      <button class=\"colab-df-convert\" onclick=\"convertToInteractive('df-e7bd3d09-e6f8-42fd-bd1e-6c7c910550c9')\"\n",
              "              title=\"Convert this dataframe to an interactive table.\"\n",
              "              style=\"display:none;\">\n",
              "        \n",
              "  <svg xmlns=\"http://www.w3.org/2000/svg\" height=\"24px\"viewBox=\"0 0 24 24\"\n",
              "       width=\"24px\">\n",
              "    <path d=\"M0 0h24v24H0V0z\" fill=\"none\"/>\n",
              "    <path d=\"M18.56 5.44l.94 2.06.94-2.06 2.06-.94-2.06-.94-.94-2.06-.94 2.06-2.06.94zm-11 1L8.5 8.5l.94-2.06 2.06-.94-2.06-.94L8.5 2.5l-.94 2.06-2.06.94zm10 10l.94 2.06.94-2.06 2.06-.94-2.06-.94-.94-2.06-.94 2.06-2.06.94z\"/><path d=\"M17.41 7.96l-1.37-1.37c-.4-.4-.92-.59-1.43-.59-.52 0-1.04.2-1.43.59L10.3 9.45l-7.72 7.72c-.78.78-.78 2.05 0 2.83L4 21.41c.39.39.9.59 1.41.59.51 0 1.02-.2 1.41-.59l7.78-7.78 2.81-2.81c.8-.78.8-2.07 0-2.86zM5.41 20L4 18.59l7.72-7.72 1.47 1.35L5.41 20z\"/>\n",
              "  </svg>\n",
              "      </button>\n",
              "      \n",
              "  <style>\n",
              "    .colab-df-container {\n",
              "      display:flex;\n",
              "      flex-wrap:wrap;\n",
              "      gap: 12px;\n",
              "    }\n",
              "\n",
              "    .colab-df-convert {\n",
              "      background-color: #E8F0FE;\n",
              "      border: none;\n",
              "      border-radius: 50%;\n",
              "      cursor: pointer;\n",
              "      display: none;\n",
              "      fill: #1967D2;\n",
              "      height: 32px;\n",
              "      padding: 0 0 0 0;\n",
              "      width: 32px;\n",
              "    }\n",
              "\n",
              "    .colab-df-convert:hover {\n",
              "      background-color: #E2EBFA;\n",
              "      box-shadow: 0px 1px 2px rgba(60, 64, 67, 0.3), 0px 1px 3px 1px rgba(60, 64, 67, 0.15);\n",
              "      fill: #174EA6;\n",
              "    }\n",
              "\n",
              "    [theme=dark] .colab-df-convert {\n",
              "      background-color: #3B4455;\n",
              "      fill: #D2E3FC;\n",
              "    }\n",
              "\n",
              "    [theme=dark] .colab-df-convert:hover {\n",
              "      background-color: #434B5C;\n",
              "      box-shadow: 0px 1px 3px 1px rgba(0, 0, 0, 0.15);\n",
              "      filter: drop-shadow(0px 1px 2px rgba(0, 0, 0, 0.3));\n",
              "      fill: #FFFFFF;\n",
              "    }\n",
              "  </style>\n",
              "\n",
              "      <script>\n",
              "        const buttonEl =\n",
              "          document.querySelector('#df-e7bd3d09-e6f8-42fd-bd1e-6c7c910550c9 button.colab-df-convert');\n",
              "        buttonEl.style.display =\n",
              "          google.colab.kernel.accessAllowed ? 'block' : 'none';\n",
              "\n",
              "        async function convertToInteractive(key) {\n",
              "          const element = document.querySelector('#df-e7bd3d09-e6f8-42fd-bd1e-6c7c910550c9');\n",
              "          const dataTable =\n",
              "            await google.colab.kernel.invokeFunction('convertToInteractive',\n",
              "                                                     [key], {});\n",
              "          if (!dataTable) return;\n",
              "\n",
              "          const docLinkHtml = 'Like what you see? Visit the ' +\n",
              "            '<a target=\"_blank\" href=https://colab.research.google.com/notebooks/data_table.ipynb>data table notebook</a>'\n",
              "            + ' to learn more about interactive tables.';\n",
              "          element.innerHTML = '';\n",
              "          dataTable['output_type'] = 'display_data';\n",
              "          await google.colab.output.renderOutput(dataTable, element);\n",
              "          const docLink = document.createElement('div');\n",
              "          docLink.innerHTML = docLinkHtml;\n",
              "          element.appendChild(docLink);\n",
              "        }\n",
              "      </script>\n",
              "    </div>\n",
              "  </div>\n",
              "  "
            ]
          },
          "metadata": {},
          "execution_count": 3
        }
      ]
    },
    {
      "cell_type": "code",
      "source": [
        "#Just an example how to plot with panda dataframe\n",
        "df.plot(x='number_courses', y='time_study', kind='scatter')\n",
        "plt.show()"
      ],
      "metadata": {
        "colab": {
          "base_uri": "https://localhost:8080/",
          "height": 280
        },
        "id": "2S0br9s_CUSN",
        "outputId": "0fe42871-b685-466f-c503-8e3df3c48c4c"
      },
      "execution_count": 4,
      "outputs": [
        {
          "output_type": "display_data",
          "data": {
            "text/plain": [
              "<Figure size 432x288 with 1 Axes>"
            ],
            "image/png": "[encoded data removed]"
          },
          "metadata": {
            "needs_background": "light"
          }
        }
      ]
    },
    {
      "cell_type": "markdown",
      "source": [
        "See this one, we can interact using String values, I have kept only one parameter, for better understanding."
      ],
      "metadata": {
        "id": "hQ2swj3aZT-x"
      }
    },
    {
      "cell_type": "code",
      "source": [
        "def something(n='A'):\n",
        "  adi = df[df['Division']==n]\n",
        "  adi.plot(x='number_courses', y='time_study', kind='scatter')\n",
        "  plt.show()\n",
        "\n",
        "#plt.show() is not mandatory, but for safety\n",
        "ipywidgets.interact(something, something=['A','B','D','C'])"
      ],
      "metadata": {
        "colab": {
          "base_uri": "https://localhost:8080/",
          "height": 329,
          "referenced_widgets": [
            "6c72d3a6663c4d5e9b75b1423e9c2b37",
            "4daedb7c4d994821b8c607f7f5de2d07",
            "ce3609a7f9604e6f84973af6600a47f5",
            "31f5df8cc2144f5e99444e047bde418e",
            "199338f5fdab4a21ae265f377d918456",
            "336fbbe9e5e540d4bce6bc42b0295a05",
            "bd9435b29a87426fa2f77f429a9d7885"
          ]
        },
        "id": "VvoinEj3XTbv",
        "outputId": "5d5496e9-1f7f-4e99-dbc7-a2770e264fc5"
      },
      "execution_count": 18,
      "outputs": [
        {
          "output_type": "display_data",
          "data": {
            "text/plain": [
              "interactive(children=(Text(value='A', description='n'), Output()), _dom_classes=('widget-interact',))"
            ],
            "application/vnd.jupyter.widget-view+json": {
              "version_major": 2,
              "version_minor": 0,
              "model_id": "6c72d3a6663c4d5e9b75b1423e9c2b37"
            }
          },
          "metadata": {}
        },
        {
          "output_type": "execute_result",
          "data": {
            "text/plain": [
              "<function __main__.something(n='A')>"
            ]
          },
          "metadata": {},
          "execution_count": 18
        }
      ]
    },
    {
      "cell_type": "markdown",
      "source": [
        "See the examples below for more parameters"
      ],
      "metadata": {
        "id": "Zs3TppQFZrhS"
      }
    },
    {
      "cell_type": "code",
      "source": [
        "#num = number of courses\n",
        "#div =divisions\n",
        "def histo(num=3,div='A',col='blue'):\n",
        "  adi = df[(df['Division']==div) & (df['number_courses']==num)]\n",
        "  adi.hist('Marks', color=col)\n",
        "  plt.show()\n",
        "#plt.show() is not mandatory, but for safety\n",
        "\n",
        "ipywidgets.interact(histo, num=(3,7,1) ,div=['A','B','D','C'], col = ['blue','yellow','green'])"
      ],
      "metadata": {
        "colab": {
          "base_uri": "https://localhost:8080/",
          "height": 394,
          "referenced_widgets": [
            "248f8de76b9641199c174da77e36ed2f",
            "10e39a28e41842bd88d7d573e18be512",
            "60149dfb47c1498d850f4c39b931d536",
            "9c2eee1c438a49728a4089d602471788",
            "2af598d6eb934630a9db429b487e2ca6",
            "8ca4619766d445498f6ee08675531208",
            "677b9cd6a6604957be874b9f81398bd1",
            "5918a2e59d35450484899b6f1708dc3d",
            "241c7f3d2be649fa9f6b8e0ccc903a98",
            "c3526f284df440fa99de160ea4d49d9b",
            "6f1c9e2237ad4ee5aa74eee8d799d317",
            "e2355752401a4708bb3a3245f0adcd32",
            "ad14c31f86f947b48a0337b2f41955fc"
          ]
        },
        "id": "oHEAPalxZfw3",
        "outputId": "21c3a3c6-3e9d-4ae0-8dee-1a983c2beb7f"
      },
      "execution_count": 45,
      "outputs": [
        {
          "output_type": "display_data",
          "data": {
            "text/plain": [
              "interactive(children=(IntSlider(value=3, description='num', max=7, min=3), Dropdown(description='div', options…"
            ],
            "application/vnd.jupyter.widget-view+json": {
              "version_major": 2,
              "version_minor": 0,
              "model_id": "248f8de76b9641199c174da77e36ed2f"
            }
          },
          "metadata": {}
        },
        {
          "output_type": "execute_result",
          "data": {
            "text/plain": [
              "<function __main__.histo(num=3, div='A', col='blue')>"
            ]
          },
          "metadata": {},
          "execution_count": 45
        }
      ]
    },
    {
      "cell_type": "code",
      "source": [
        "#df[(df['Division']=='A') & (df['number_courses']==3)].head()\n",
        "#df['number_courses'].unique()\n",
        "#df.hist(column='number_courses')\n"
      ],
      "metadata": {
        "colab": {
          "base_uri": "https://localhost:8080/",
          "height": 351
        },
        "id": "4-djGo6NaVb0",
        "outputId": "5249ee20-f2c2-4c0b-f1a5-b8ec71246237"
      },
      "execution_count": 48,
      "outputs": [
        {
          "output_type": "stream",
          "name": "stderr",
          "text": [
            "/usr/local/lib/python3.7/dist-packages/seaborn/distributions.py:2619: FutureWarning: `distplot` is a deprecated function and will be removed in a future version. Please adapt your code to use either `displot` (a figure-level function with similar flexibility) or `kdeplot` (an axes-level function for kernel density plots).\n",
            "  warnings.warn(msg, FutureWarning)\n"
          ]
        },
        {
          "output_type": "execute_result",
          "data": {
            "text/plain": [
              "<matplotlib.axes._subplots.AxesSubplot at 0x7f80f7d19f90>"
            ]
          },
          "metadata": {},
          "execution_count": 48
        },
        {
          "output_type": "display_data",
          "data": {
            "text/plain": [
              "<Figure size 432x288 with 1 Axes>"
            ],
            "image/png": "[encoded data removed]"
          },
          "metadata": {
            "needs_background": "light"
          }
        }
      ]
    },
    {
      "cell_type": "markdown",
      "source": [
        "Adding slider and checkbox just in case :)"
      ],
      "metadata": {
        "id": "6QZfWECLcoPb"
      }
    },
    {
      "cell_type": "code",
      "source": [
        "\n",
        "import seaborn as sns\n",
        " \n",
        " \n",
        "def histo(num=3,div='A',col='blue', show_line= False):\n",
        "  adi = df[(df['Division']==div) & (df['number_courses']==num)]\n",
        "  if show_line:\n",
        "    sns.distplot(a=df.Marks, hist=True,color='red')\n",
        "  else:\n",
        "    sns.distplot(a=df.Marks, hist=False,color='red')\n",
        "#plt.show() is not mandatory, but for safety\n",
        "\n",
        "ipywidgets.interact(histo, num=(3,7,1) ,div=['A','B','D','C'], col = ['blue','yellow','green'], show_line= False)"
      ],
      "metadata": {
        "colab": {
          "base_uri": "https://localhost:8080/",
          "height": 476,
          "referenced_widgets": [
            "1edbc8f690bd4c23ab4784ae6bff9d3f",
            "c360c519943b41e98e585d3cd344cb0e",
            "ca8b9e57f30843bbb967930f41d0cc56",
            "e3c61a7e008048f6afb9c7baa457e110",
            "0cdb4361acd043cebdc4059534290478",
            "5cb1e37132524673aa05bb0deef26a21",
            "f52268ae187a421582d0452599f01da4",
            "3b9f6dfc12514e77aa98fe6129979029",
            "8df5fb39469043f7a1fc088af0063347",
            "0f5b7498dc224dee93a548d5921570d0",
            "526a3fae927b42f49d177f3f636f2099",
            "305448bc483a42c2915111e3f8ce655c",
            "e99d9cd53272413a93ceddb24423ef71",
            "7034d5bc1a704ee082dd69fa03fcec4c",
            "f36bf83221b848f0bfa970ddb31cb9e3",
            "68be26dba9dd44e4a1d5e302867a6f63"
          ]
        },
        "id": "qHSubEq4ctKU",
        "outputId": "dc539d6e-dadc-4577-baa6-213402e63744"
      },
      "execution_count": 57,
      "outputs": [
        {
          "output_type": "display_data",
          "data": {
            "text/plain": [
              "interactive(children=(IntSlider(value=3, description='num', max=7, min=3), Dropdown(description='div', options…"
            ],
            "application/vnd.jupyter.widget-view+json": {
              "version_major": 2,
              "version_minor": 0,
              "model_id": "1edbc8f690bd4c23ab4784ae6bff9d3f"
            }
          },
          "metadata": {}
        },
        {
          "output_type": "execute_result",
          "data": {
            "text/plain": [
              "<function __main__.histo(num=3, div='A', col='blue', show_line=False)>"
            ]
          },
          "metadata": {},
          "execution_count": 57
        }
      ]
    },
    {
      "cell_type": "code",
      "source": [
        "\n"
      ],
      "metadata": {
        "colab": {
          "base_uri": "https://localhost:8080/",
          "height": 351
        },
        "id": "V1v6a7AjjvpN",
        "outputId": "94a04523-7fec-4612-fb5b-c6ee7b328a3a"
      },
      "execution_count": 56,
      "outputs": [
        {
          "output_type": "stream",
          "name": "stderr",
          "text": [
            "/usr/local/lib/python3.7/dist-packages/seaborn/distributions.py:2619: FutureWarning: `distplot` is a deprecated function and will be removed in a future version. Please adapt your code to use either `displot` (a figure-level function with similar flexibility) or `histplot` (an axes-level function for histograms).\n",
            "  warnings.warn(msg, FutureWarning)\n"
          ]
        },
        {
          "output_type": "execute_result",
          "data": {
            "text/plain": [
              "<matplotlib.axes._subplots.AxesSubplot at 0x7f80f76ac110>"
            ]
          },
          "metadata": {},
          "execution_count": 56
        },
        {
          "output_type": "display_data",
          "data": {
            "text/plain": [
              "<Figure size 432x288 with 1 Axes>"
            ],
            "image/png": "[encoded data removed]"
          },
          "metadata": {
            "needs_background": "light"
          }
        }
      ]
    }
  ]
}